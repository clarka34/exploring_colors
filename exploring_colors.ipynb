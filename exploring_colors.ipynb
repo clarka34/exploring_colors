{
 "cells": [
  {
   "cell_type": "markdown",
   "metadata": {},
   "source": [
    "## Import necessary python packages "
   ]
  },
  {
   "cell_type": "code",
   "execution_count": 5,
   "metadata": {
    "collapsed": true
   },
   "outputs": [],
   "source": [
    "import numpy as np\n",
    "import seaborn as sns\n",
    "\n",
    "%matplotlib inline"
   ]
  },
  {
   "cell_type": "markdown",
   "metadata": {},
   "source": [
    "## Define function to view color scale in grayscale"
   ]
  },
  {
   "cell_type": "code",
   "execution_count": 6,
   "metadata": {
    "collapsed": true
   },
   "outputs": [],
   "source": [
    "def grayify_cmap(current_palette):\n",
    "    \"\"\"Return a grayscale version of the colormap\"\"\"\n",
    "    grey_color = np.ones(len(current_palette)) * -50\n",
    "    for ii in range(len(current_palette)):\n",
    "        grey_color[ii] = current_palette[ii][0]*0.299+ current_palette[ii][1]*0.587 + current_palette[ii][2]*0.114\n",
    "    \n",
    "    test = np.ones((len(current_palette),3))\n",
    "    test[:,0]= grey_color\n",
    "    test[:,1]= grey_color\n",
    "    test[:,2]= grey_color\n",
    "\n",
    "    color = tuple(map(tuple, test))\n",
    "    \n",
    "    sns.palplot(current_palette)\n",
    "    sns.palplot(color)\n",
    "\n",
    "    return color"
   ]
  },
  {
   "cell_type": "code",
   "execution_count": 7,
   "metadata": {
    "collapsed": false
   },
   "outputs": [
    {
     "data": {
      "text/plain": [
       "((0.42611372549019605, 0.42611372549019605, 0.42611372549019605),\n",
       " (0.71345490196078432, 0.71345490196078432, 0.71345490196078432),\n",
       " (0.64112156862745096, 0.64112156862745096, 0.64112156862745096),\n",
       " (0.60583137254901953, 0.60583137254901953, 0.60583137254901953),\n",
       " (0.43147058823529411, 0.43147058823529411, 0.43147058823529411))"
      ]
     },
     "execution_count": 7,
     "metadata": {},
     "output_type": "execute_result"
    },
    {
     "data": {
      "image/png": "[encoded data removed]",
      "text/plain": [
       "<matplotlib.figure.Figure at 0x117e42320>"
      ]
     },
     "metadata": {},
     "output_type": "display_data"
    },
    {
     "data": {
      "image/png": "[encoded data removed]",
      "text/plain": [
       "<matplotlib.figure.Figure at 0x10f923208>"
      ]
     },
     "metadata": {},
     "output_type": "display_data"
    }
   ],
   "source": [
    "colors = [\"windows blue\", \"amber\", \"greyish\", \"faded green\", \"dusty purple\"]\n",
    "sns.xkcd_palette(colors)\n",
    "grayify_cmap(sns.xkcd_palette(colors))"
   ]
  },
  {
   "cell_type": "code",
   "execution_count": 9,
   "metadata": {
    "collapsed": false
   },
   "outputs": [
    {
     "data": {
      "text/plain": [
       "((0.99999999999999989, 0.99999999999999989, 0.99999999999999989),\n",
       " (0.83117034299619041, 0.83117034299619041, 0.83117034299619041),\n",
       " (0.65883953340673729, 0.65883953340673729, 0.65883953340673729),\n",
       " (0.49058085823047187, 0.49058085823047187, 0.49058085823047187),\n",
       " (0.31824496040142292, 0.31824496040142292, 0.31824496040142292),\n",
       " (0.14945804733240636, 0.14945804733240636, 0.14945804733240636))"
      ]
     },
     "execution_count": 9,
     "metadata": {},
     "output_type": "execute_result"
    },
    {
     "data": {
      "image/png": "[encoded data removed]",
      "text/plain": [
       "<matplotlib.figure.Figure at 0x10f9511d0>"
      ]
     },
     "metadata": {},
     "output_type": "display_data"
    },
    {
     "data": {
      "image/png": "[encoded data removed]",
      "text/plain": [
       "<matplotlib.figure.Figure at 0x1181382e8>"
      ]
     },
     "metadata": {},
     "output_type": "display_data"
    }
   ],
   "source": [
    "grayify_cmap(sns.cubehelix_palette(light=1))"
   ]
  },
  {
   "cell_type": "code",
   "execution_count": null,
   "metadata": {
    "collapsed": true
   },
   "outputs": [],
   "source": []
  }
 ],
 "metadata": {
  "kernelspec": {
   "display_name": "Python 3",
   "language": "python",
   "name": "python3"
  },
  "language_info": {
   "codemirror_mode": {
    "name": "ipython",
    "version": 3
   },
   "file_extension": ".py",
   "mimetype": "text/x-python",
   "name": "python",
   "nbconvert_exporter": "python",
   "pygments_lexer": "ipython3",
   "version": "3.5.1"
  }
 },
 "nbformat": 4,
 "nbformat_minor": 0
}
